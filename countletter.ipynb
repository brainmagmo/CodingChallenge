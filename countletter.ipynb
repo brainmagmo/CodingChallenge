{
 "cells": [
  {
   "cell_type": "code",
   "execution_count": 2,
   "metadata": {},
   "outputs": [],
   "source": [
    "def letterCounter(arrarr, letter):\n",
    "    c = 0\n",
    "    for arr in arrarr:\n",
    "        for item in arr:\n",
    "            if item == letter:\n",
    "                c = c+1\n",
    "    return c"
   ]
  },
  {
   "cell_type": "code",
   "execution_count": 7,
   "metadata": {},
   "outputs": [
    {
     "name": "stdout",
     "output_type": "stream",
     "text": [
      "2\n",
      "3\n"
     ]
    }
   ],
   "source": [
    "print(letterCounter([ \n",
    "[\"D\", \"E\", \"Y\", \"H\", \"A\", \"D\"],\n",
    "[\"C\", \"B\", \"Z\", \"Y\", \"J\", \"K\"],\n",
    "[\"D\", \"B\", \"C\", \"A\", \"M\", \"N\"],\n",
    "[\"F\", \"G\", \"G\", \"R\", \"S\", \"R\"],\n",
    "[\"V\", \"X\", \"H\", \"A\", \"S\", \"S\"]\n",
    "], \"H\"))\n",
    "print(letterCounter([ \n",
    "[\"D\", \"E\", \"Y\", \"H\", \"A\", \"D\"],\n",
    "[\"C\", \"B\", \"Z\", \"Y\", \"J\", \"K\"],\n",
    "[\"D\", \"B\", \"C\", \"A\", \"M\", \"N\"],\n",
    "[\"F\", \"G\", \"G\", \"R\", \"S\", \"R\"],\n",
    "[\"V\", \"X\", \"H\", \"A\", \"S\", \"S\"]], \"D\"))\n"
   ]
  }
 ],
 "metadata": {
  "interpreter": {
   "hash": "31e166beea782f6294e7d6d982521a62f515d0faefb8321a981cd9ad5b31d81b"
  },
  "kernelspec": {
   "display_name": "Python 3.10.2 64-bit (windows store)",
   "language": "python",
   "name": "python3"
  },
  "language_info": {
   "codemirror_mode": {
    "name": "ipython",
    "version": 3
   },
   "file_extension": ".py",
   "mimetype": "text/x-python",
   "name": "python",
   "nbconvert_exporter": "python",
   "pygments_lexer": "ipython3",
   "version": "3.10.5"
  },
  "orig_nbformat": 4
 },
 "nbformat": 4,
 "nbformat_minor": 2
}
